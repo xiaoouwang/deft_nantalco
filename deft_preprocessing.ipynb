{
 "cells": [
  {
   "cell_type": "code",
   "execution_count": 4,
   "metadata": {},
   "outputs": [],
   "source": [
    "import re\n",
    "import pandas as pd\n",
    "\n",
    "path_q = \"Train/T2/trainT2-Q.tab\"\n",
    "path_r = \"Train/T2/trainT2-R.tab\""
   ]
  },
  {
   "cell_type": "code",
   "execution_count": 13,
   "metadata": {},
   "outputs": [],
   "source": [
    "# done, - need new responses column because multiple responses possible\n",
    "\n",
    "def html_cleaning(text):\n",
    "    # remove tags\n",
    "    text = re.sub('<[^>]*>', ' ', str(text))\n",
    "    # remove non-breaking space\n",
    "    text = text.replace(\"&nbsp;\", \" \")\n",
    "    text = text.replace('&lt;', '<')\n",
    "    text = text.replace('&gt;', '>')\n",
    "    text = text.replace(' ', '')\n",
    "    text = re.sub(r' +', ' ', text)\n",
    "    # remove multiples spaces\n",
    "    return text"
   ]
  },
  {
   "cell_type": "code",
   "execution_count": 28,
   "metadata": {},
   "outputs": [],
   "source": [
    "df_question = pd.read_csv(path_q, sep=\"\\t\", header=None)\n",
    "df_question = df_question.drop(df_question.columns[5], axis=1)\n",
    "df_question.columns = ['numeroQ', 'noteMaxOri', 'nomQ', 'texteQuestion', 'EltCorrections']\n",
    "df_question.texteQuestion = df_question.texteQuestion.apply(html_cleaning).apply(lambda x: x.strip())\n",
    "df_question.EltCorrections = df_question.EltCorrections.apply(html_cleaning).apply(lambda x: x.strip())"
   ]
  },
  {
   "cell_type": "code",
   "execution_count": 7,
   "metadata": {},
   "outputs": [
    {
     "data": {
      "text/plain": "    numéroQ  noteMaxOri  nomQ  \\\n0      1001           1     1   \n1      1002           1     2   \n2      1003           1     3   \n3      1004           1     4   \n4      1007           1     7   \n5      1008           1     8   \n6      1009           1     9   \n7      1010           1    10   \n8      1011           1    11   \n9      1014           1    14   \n10     1015           1    15   \n11     1017           1    17   \n12     1018           1    18   \n13     1021           1    21   \n14     1022           1    22   \n15     1024           1    24   \n16     1025           1    25   \n17     1026           1    26   \n18     1027           2    27   \n19     1028           1    28   \n20     2002           1     2   \n21     2003           1     3   \n22     2005           1     5   \n23     2007           1     7   \n24     2008           1     8   \n25     2009           1     9   \n26     2010           1    10   \n27     2014           1    14   \n28     2015           1    15   \n29     2016           1    16   \n30     2017           1    17   \n31     2020           1    20   \n32     2021           1    21   \n33     2022           1    22   \n34     2023           1    23   \n35     2024           1    24   \n36     2026           2    26   \n37     2027           1    27   \n38     2029           1    29   \n39     2032           1    32   \n40     2034           1    34   \n41     2035           1    35   \n42     2037           1    37   \n43     2039           1    39   \n44     2040           1    40   \n45     2042           1    42   \n46     2043           1    43   \n47     2044           1    44   \n48     2045           1    45   \n49     2046           1    46   \n\n                                        texteQuestion  \\\n0                   Qu'est-ce que le World Wide Web ?   \n1   Citez au moins deux intérêts d'une page web ut...   \n2   Quelle est la déclaration de type de document ...   \n3   Quelle balise HTML contient les informations d...   \n4   Quel code HTML permet d'afficher la liste suiv...   \n5                         À quoi sert la balise div ?   \n6   En HTML5, dans quelle balise est-il souhaitabl...   \n7   Dans un formulaire HTML, quel est l'avantage d...   \n8   Quel code HTML permet d'afficher une liste dér...   \n9   Comment attribuer le style déclaré dans le cod...   \n10  En PHP, comment accède-t-on au premier élément...   \n11  Qu'affiche le code suivant: <code> $nbEquipes=...   \n12  Qu'affiche le code suivant: <code> $radio=\"Rad...   \n13  Quelle fonction PHP permet d'exécuter une requ...   \n14  Quelle fonction PHP permet de récupérer le tup...   \n15  On souhaite créer une page affichant la liste ...   \n16  Si le code PHP est organisé selon le patron de...   \n17  On suppose que la page d'accueil du site conti...   \n18  Qu'apporte AJAX par rapport au JavaScript de b...   \n19  Citez au moins deux moyens de sécuriser les do...   \n20  Quel est l'avantage d'une page web dynamique p...   \n21  Que se passe-t-il si un fichier est encodé dan...   \n22                     À quoi sert la balise <span> ?   \n23    À quoi sert l'attribut alt de la balise <img> ?   \n24  Qu'apportent les balises media (<audio> et <vi...   \n25  Quel est l'intérêt de produire du HTML valide ...   \n26  Donnez le code HTML permettant d'afficher le t...   \n27  À quoi sert le code suivant d'une feuille de s...   \n28  Modifiez le code HTML suivant: <code> <ul> <li...   \n29  À quoi sert le code suivant d'une feuille de s...   \n30  Le code PHP est-il exécuté sur la machine clie...   \n31  Qu'affiche le code suivant: <code> <?php $prof...   \n32  Qu'affiche le code suivant: <code> <?php $elev...   \n33  Quel code permet d'afficher la note de Jacques...   \n34  Qu'affiche le code suivant: <code> <?php funct...   \n35  Quel est l'intérêt d'utiliser l'inclusion de f...   \n36  Complétez le code suivant pour afficher la lis...   \n37  Quelle structure de données la fonction pg_fet...   \n38  Quel fonctionnalité de PHP permet de stocker l...   \n39       Quel est l'intérêt d'utiliser du code AJAX ?   \n40  Modifiez le code XML ci-dessous pour le rendre...   \n41  Modifiez le code XML ci-dessous pour le rendre...   \n42  Modifiez le code XML ci-dessous pour le rendre...   \n43  Donnez la DTD pour l'élément <enseignants> du ...   \n44  Donnez la DTD pour les attributs de l'élément ...   \n45  Donnez un exemple de code XML (ou d'extrait de...   \n46  Donnez un exemple non minimal de code XML (ou ...   \n47  Donnez un exemple concret d'application du pri...   \n48  Pourquoi le code HTML suivant ne respecte-t-il...   \n49  Quel problème d'accessibilité peut se poser lo...   \n\n                                       EltCorrections  \n0   système hypertexte fonctionnant sur internet =...  \n1   - modification d'une page sans modification du...  \n2                                     <!DOCTYPE html>  \n3                          head 0 si html 0.5 si meta  \n4   <ol> <li>Nice</li> <li>Bordeaux</li> </ol> 0.5...  \n5   elle définit une section de document. utilisée...  \n6                                                 nav  \n7   GET: variables et valeurs dans l'URL => moins ...  \n8   <select name=\"prix_billets\"> <option value=\"ca...  \n9           <p class=\"qualif\"> ok si div au lieu de p  \n10                                         $villes[0]  \n11  rien car les noms de variables sont sensibles ...  \n12                     Radio officielle: Radio France  \n13  pg_query pas tenu compte des arguments dans la...  \n14                   pg_fetch_assoc ou pg_fetch_array  \n15  attendu: NJ entre pays et participation (ou de...  \n16                                             modèle  \n17  Elle modifie le texte du paragraphe d'id like ...  \n18  connexion asynchrone avec le serveur web 0.5 s...  \n19  1 si expliqué deux types de protections 0.5 si...  \n20  dynamique = générée à la demande. le contenu p...  \n21  Réponse attendue: certains caractères comme le...  \n22  Elle permet de définir une partie de texte à l...  \n23  C'est le texte qui s'affiche si le navigateur ...  \n24  L'intégration de contenu multimedia sans appel...  \n25  - page s'affiche de la même façon (correctemen...  \n26  <table> <tr><th>Nom</th><th>Note</th></tr> <tr...  \n27  Réponse attendue: les titres de niveau 2 seron...  \n28  <li class=\"valide\">valide</li> Compté 1 même s...  \n29  Met la première ligne de chaque paragraphe en ...  \n30                                 sur le serveur web  \n31                           Notes déposées par $prof  \n32                                    Jacques Blanc\\n  \n33                     echo $notes[\"Jacques Blanc\"]\\n  \n34                                                 14  \n35  permet d'inclure le même code/ fonctions dans ...  \n36  <code> $requete=\"select id_ue, intitule from u...  \n37  un tableau associatif 0.7 si tableau ou array ...  \n38  Le mécanisme des sessions. 1 si parlé de $_SES...  \n39  Permet l'échange de données avec le serveur sa...  \n40  <ue id=\"PW2\"> 1 si guillemets ajoutés 0 sinon ...  \n41  <ue><responsable id=\"toto\"/></ue> ok si referm...  \n42    <ue><intitule>Programmation web</intitule></ue>  \n43               <!ELEMENT enseignants (enseignant+)>  \n44  <!ATTLIST ue id ID #REQUIRED lang CDATA #IMPLIED>  \n45  <enseignant> <nom>Truc</nom> <prenom>Chose</pr...  \n46  <ue lang=\"fr\" id=\"PWR\"> <module>SR</module> <m...  \n47  - toute fonctionnalité doit être accessible au...  \n48  car la légende de l'image ne lui est pas assoc...  \n49  perte de contenu, par exemple recouvrement de ...  ",
      "text/html": "<div>\n<style scoped>\n    .dataframe tbody tr th:only-of-type {\n        vertical-align: middle;\n    }\n\n    .dataframe tbody tr th {\n        vertical-align: top;\n    }\n\n    .dataframe thead th {\n        text-align: right;\n    }\n</style>\n<table border=\"1\" class=\"dataframe\">\n  <thead>\n    <tr style=\"text-align: right;\">\n      <th></th>\n      <th>numéroQ</th>\n      <th>noteMaxOri</th>\n      <th>nomQ</th>\n      <th>texteQuestion</th>\n      <th>EltCorrections</th>\n    </tr>\n  </thead>\n  <tbody>\n    <tr>\n      <th>0</th>\n      <td>1001</td>\n      <td>1</td>\n      <td>1</td>\n      <td>Qu'est-ce que le World Wide Web ?</td>\n      <td>système hypertexte fonctionnant sur internet =...</td>\n    </tr>\n    <tr>\n      <th>1</th>\n      <td>1002</td>\n      <td>1</td>\n      <td>2</td>\n      <td>Citez au moins deux intérêts d'une page web ut...</td>\n      <td>- modification d'une page sans modification du...</td>\n    </tr>\n    <tr>\n      <th>2</th>\n      <td>1003</td>\n      <td>1</td>\n      <td>3</td>\n      <td>Quelle est la déclaration de type de document ...</td>\n      <td>&lt;!DOCTYPE html&gt;</td>\n    </tr>\n    <tr>\n      <th>3</th>\n      <td>1004</td>\n      <td>1</td>\n      <td>4</td>\n      <td>Quelle balise HTML contient les informations d...</td>\n      <td>head 0 si html 0.5 si meta</td>\n    </tr>\n    <tr>\n      <th>4</th>\n      <td>1007</td>\n      <td>1</td>\n      <td>7</td>\n      <td>Quel code HTML permet d'afficher la liste suiv...</td>\n      <td>&lt;ol&gt; &lt;li&gt;Nice&lt;/li&gt; &lt;li&gt;Bordeaux&lt;/li&gt; &lt;/ol&gt; 0.5...</td>\n    </tr>\n    <tr>\n      <th>5</th>\n      <td>1008</td>\n      <td>1</td>\n      <td>8</td>\n      <td>À quoi sert la balise div ?</td>\n      <td>elle définit une section de document. utilisée...</td>\n    </tr>\n    <tr>\n      <th>6</th>\n      <td>1009</td>\n      <td>1</td>\n      <td>9</td>\n      <td>En HTML5, dans quelle balise est-il souhaitabl...</td>\n      <td>nav</td>\n    </tr>\n    <tr>\n      <th>7</th>\n      <td>1010</td>\n      <td>1</td>\n      <td>10</td>\n      <td>Dans un formulaire HTML, quel est l'avantage d...</td>\n      <td>GET: variables et valeurs dans l'URL =&gt; moins ...</td>\n    </tr>\n    <tr>\n      <th>8</th>\n      <td>1011</td>\n      <td>1</td>\n      <td>11</td>\n      <td>Quel code HTML permet d'afficher une liste dér...</td>\n      <td>&lt;select name=\"prix_billets\"&gt; &lt;option value=\"ca...</td>\n    </tr>\n    <tr>\n      <th>9</th>\n      <td>1014</td>\n      <td>1</td>\n      <td>14</td>\n      <td>Comment attribuer le style déclaré dans le cod...</td>\n      <td>&lt;p class=\"qualif\"&gt; ok si div au lieu de p</td>\n    </tr>\n    <tr>\n      <th>10</th>\n      <td>1015</td>\n      <td>1</td>\n      <td>15</td>\n      <td>En PHP, comment accède-t-on au premier élément...</td>\n      <td>$villes[0]</td>\n    </tr>\n    <tr>\n      <th>11</th>\n      <td>1017</td>\n      <td>1</td>\n      <td>17</td>\n      <td>Qu'affiche le code suivant: &lt;code&gt; $nbEquipes=...</td>\n      <td>rien car les noms de variables sont sensibles ...</td>\n    </tr>\n    <tr>\n      <th>12</th>\n      <td>1018</td>\n      <td>1</td>\n      <td>18</td>\n      <td>Qu'affiche le code suivant: &lt;code&gt; $radio=\"Rad...</td>\n      <td>Radio officielle: Radio France</td>\n    </tr>\n    <tr>\n      <th>13</th>\n      <td>1021</td>\n      <td>1</td>\n      <td>21</td>\n      <td>Quelle fonction PHP permet d'exécuter une requ...</td>\n      <td>pg_query pas tenu compte des arguments dans la...</td>\n    </tr>\n    <tr>\n      <th>14</th>\n      <td>1022</td>\n      <td>1</td>\n      <td>22</td>\n      <td>Quelle fonction PHP permet de récupérer le tup...</td>\n      <td>pg_fetch_assoc ou pg_fetch_array</td>\n    </tr>\n    <tr>\n      <th>15</th>\n      <td>1024</td>\n      <td>1</td>\n      <td>24</td>\n      <td>On souhaite créer une page affichant la liste ...</td>\n      <td>attendu: NJ entre pays et participation (ou de...</td>\n    </tr>\n    <tr>\n      <th>16</th>\n      <td>1025</td>\n      <td>1</td>\n      <td>25</td>\n      <td>Si le code PHP est organisé selon le patron de...</td>\n      <td>modèle</td>\n    </tr>\n    <tr>\n      <th>17</th>\n      <td>1026</td>\n      <td>1</td>\n      <td>26</td>\n      <td>On suppose que la page d'accueil du site conti...</td>\n      <td>Elle modifie le texte du paragraphe d'id like ...</td>\n    </tr>\n    <tr>\n      <th>18</th>\n      <td>1027</td>\n      <td>2</td>\n      <td>27</td>\n      <td>Qu'apporte AJAX par rapport au JavaScript de b...</td>\n      <td>connexion asynchrone avec le serveur web 0.5 s...</td>\n    </tr>\n    <tr>\n      <th>19</th>\n      <td>1028</td>\n      <td>1</td>\n      <td>28</td>\n      <td>Citez au moins deux moyens de sécuriser les do...</td>\n      <td>1 si expliqué deux types de protections 0.5 si...</td>\n    </tr>\n    <tr>\n      <th>20</th>\n      <td>2002</td>\n      <td>1</td>\n      <td>2</td>\n      <td>Quel est l'avantage d'une page web dynamique p...</td>\n      <td>dynamique = générée à la demande. le contenu p...</td>\n    </tr>\n    <tr>\n      <th>21</th>\n      <td>2003</td>\n      <td>1</td>\n      <td>3</td>\n      <td>Que se passe-t-il si un fichier est encodé dan...</td>\n      <td>Réponse attendue: certains caractères comme le...</td>\n    </tr>\n    <tr>\n      <th>22</th>\n      <td>2005</td>\n      <td>1</td>\n      <td>5</td>\n      <td>À quoi sert la balise &lt;span&gt; ?</td>\n      <td>Elle permet de définir une partie de texte à l...</td>\n    </tr>\n    <tr>\n      <th>23</th>\n      <td>2007</td>\n      <td>1</td>\n      <td>7</td>\n      <td>À quoi sert l'attribut alt de la balise &lt;img&gt; ?</td>\n      <td>C'est le texte qui s'affiche si le navigateur ...</td>\n    </tr>\n    <tr>\n      <th>24</th>\n      <td>2008</td>\n      <td>1</td>\n      <td>8</td>\n      <td>Qu'apportent les balises media (&lt;audio&gt; et &lt;vi...</td>\n      <td>L'intégration de contenu multimedia sans appel...</td>\n    </tr>\n    <tr>\n      <th>25</th>\n      <td>2009</td>\n      <td>1</td>\n      <td>9</td>\n      <td>Quel est l'intérêt de produire du HTML valide ...</td>\n      <td>- page s'affiche de la même façon (correctemen...</td>\n    </tr>\n    <tr>\n      <th>26</th>\n      <td>2010</td>\n      <td>1</td>\n      <td>10</td>\n      <td>Donnez le code HTML permettant d'afficher le t...</td>\n      <td>&lt;table&gt; &lt;tr&gt;&lt;th&gt;Nom&lt;/th&gt;&lt;th&gt;Note&lt;/th&gt;&lt;/tr&gt; &lt;tr...</td>\n    </tr>\n    <tr>\n      <th>27</th>\n      <td>2014</td>\n      <td>1</td>\n      <td>14</td>\n      <td>À quoi sert le code suivant d'une feuille de s...</td>\n      <td>Réponse attendue: les titres de niveau 2 seron...</td>\n    </tr>\n    <tr>\n      <th>28</th>\n      <td>2015</td>\n      <td>1</td>\n      <td>15</td>\n      <td>Modifiez le code HTML suivant: &lt;code&gt; &lt;ul&gt; &lt;li...</td>\n      <td>&lt;li class=\"valide\"&gt;valide&lt;/li&gt; Compté 1 même s...</td>\n    </tr>\n    <tr>\n      <th>29</th>\n      <td>2016</td>\n      <td>1</td>\n      <td>16</td>\n      <td>À quoi sert le code suivant d'une feuille de s...</td>\n      <td>Met la première ligne de chaque paragraphe en ...</td>\n    </tr>\n    <tr>\n      <th>30</th>\n      <td>2017</td>\n      <td>1</td>\n      <td>17</td>\n      <td>Le code PHP est-il exécuté sur la machine clie...</td>\n      <td>sur le serveur web</td>\n    </tr>\n    <tr>\n      <th>31</th>\n      <td>2020</td>\n      <td>1</td>\n      <td>20</td>\n      <td>Qu'affiche le code suivant: &lt;code&gt; &lt;?php $prof...</td>\n      <td>Notes déposées par $prof</td>\n    </tr>\n    <tr>\n      <th>32</th>\n      <td>2021</td>\n      <td>1</td>\n      <td>21</td>\n      <td>Qu'affiche le code suivant: &lt;code&gt; &lt;?php $elev...</td>\n      <td>Jacques Blanc\\n</td>\n    </tr>\n    <tr>\n      <th>33</th>\n      <td>2022</td>\n      <td>1</td>\n      <td>22</td>\n      <td>Quel code permet d'afficher la note de Jacques...</td>\n      <td>echo $notes[\"Jacques Blanc\"]\\n</td>\n    </tr>\n    <tr>\n      <th>34</th>\n      <td>2023</td>\n      <td>1</td>\n      <td>23</td>\n      <td>Qu'affiche le code suivant: &lt;code&gt; &lt;?php funct...</td>\n      <td>14</td>\n    </tr>\n    <tr>\n      <th>35</th>\n      <td>2024</td>\n      <td>1</td>\n      <td>24</td>\n      <td>Quel est l'intérêt d'utiliser l'inclusion de f...</td>\n      <td>permet d'inclure le même code/ fonctions dans ...</td>\n    </tr>\n    <tr>\n      <th>36</th>\n      <td>2026</td>\n      <td>2</td>\n      <td>26</td>\n      <td>Complétez le code suivant pour afficher la lis...</td>\n      <td>&lt;code&gt; $requete=\"select id_ue, intitule from u...</td>\n    </tr>\n    <tr>\n      <th>37</th>\n      <td>2027</td>\n      <td>1</td>\n      <td>27</td>\n      <td>Quelle structure de données la fonction pg_fet...</td>\n      <td>un tableau associatif 0.7 si tableau ou array ...</td>\n    </tr>\n    <tr>\n      <th>38</th>\n      <td>2029</td>\n      <td>1</td>\n      <td>29</td>\n      <td>Quel fonctionnalité de PHP permet de stocker l...</td>\n      <td>Le mécanisme des sessions. 1 si parlé de $_SES...</td>\n    </tr>\n    <tr>\n      <th>39</th>\n      <td>2032</td>\n      <td>1</td>\n      <td>32</td>\n      <td>Quel est l'intérêt d'utiliser du code AJAX ?</td>\n      <td>Permet l'échange de données avec le serveur sa...</td>\n    </tr>\n    <tr>\n      <th>40</th>\n      <td>2034</td>\n      <td>1</td>\n      <td>34</td>\n      <td>Modifiez le code XML ci-dessous pour le rendre...</td>\n      <td>&lt;ue id=\"PW2\"&gt; 1 si guillemets ajoutés 0 sinon ...</td>\n    </tr>\n    <tr>\n      <th>41</th>\n      <td>2035</td>\n      <td>1</td>\n      <td>35</td>\n      <td>Modifiez le code XML ci-dessous pour le rendre...</td>\n      <td>&lt;ue&gt;&lt;responsable id=\"toto\"/&gt;&lt;/ue&gt; ok si referm...</td>\n    </tr>\n    <tr>\n      <th>42</th>\n      <td>2037</td>\n      <td>1</td>\n      <td>37</td>\n      <td>Modifiez le code XML ci-dessous pour le rendre...</td>\n      <td>&lt;ue&gt;&lt;intitule&gt;Programmation web&lt;/intitule&gt;&lt;/ue&gt;</td>\n    </tr>\n    <tr>\n      <th>43</th>\n      <td>2039</td>\n      <td>1</td>\n      <td>39</td>\n      <td>Donnez la DTD pour l'élément &lt;enseignants&gt; du ...</td>\n      <td>&lt;!ELEMENT enseignants (enseignant+)&gt;</td>\n    </tr>\n    <tr>\n      <th>44</th>\n      <td>2040</td>\n      <td>1</td>\n      <td>40</td>\n      <td>Donnez la DTD pour les attributs de l'élément ...</td>\n      <td>&lt;!ATTLIST ue id ID #REQUIRED lang CDATA #IMPLIED&gt;</td>\n    </tr>\n    <tr>\n      <th>45</th>\n      <td>2042</td>\n      <td>1</td>\n      <td>42</td>\n      <td>Donnez un exemple de code XML (ou d'extrait de...</td>\n      <td>&lt;enseignant&gt; &lt;nom&gt;Truc&lt;/nom&gt; &lt;prenom&gt;Chose&lt;/pr...</td>\n    </tr>\n    <tr>\n      <th>46</th>\n      <td>2043</td>\n      <td>1</td>\n      <td>43</td>\n      <td>Donnez un exemple non minimal de code XML (ou ...</td>\n      <td>&lt;ue lang=\"fr\" id=\"PWR\"&gt; &lt;module&gt;SR&lt;/module&gt; &lt;m...</td>\n    </tr>\n    <tr>\n      <th>47</th>\n      <td>2044</td>\n      <td>1</td>\n      <td>44</td>\n      <td>Donnez un exemple concret d'application du pri...</td>\n      <td>- toute fonctionnalité doit être accessible au...</td>\n    </tr>\n    <tr>\n      <th>48</th>\n      <td>2045</td>\n      <td>1</td>\n      <td>45</td>\n      <td>Pourquoi le code HTML suivant ne respecte-t-il...</td>\n      <td>car la légende de l'image ne lui est pas assoc...</td>\n    </tr>\n    <tr>\n      <th>49</th>\n      <td>2046</td>\n      <td>1</td>\n      <td>46</td>\n      <td>Quel problème d'accessibilité peut se poser lo...</td>\n      <td>perte de contenu, par exemple recouvrement de ...</td>\n    </tr>\n  </tbody>\n</table>\n</div>"
     },
     "execution_count": 7,
     "metadata": {},
     "output_type": "execute_result"
    }
   ],
   "source": [
    "from utils_xo import *\n",
    "\n",
    "xo_write_json_fromdf(\"q.json\",df_question)"
   ]
  },
  {
   "cell_type": "code",
   "execution_count": 29,
   "metadata": {},
   "outputs": [
    {
     "data": {
      "text/plain": "0       Ce sont les pages web accessible par tout navi...\n1                                       Un réseau mondial\n2                    C'est le réseau mondiale d'internet.\n3                            Le réseau mondial, Internet.\n4       C'est un reseau permetant de connecter l'ensem...\n                              ...                        \n3815                                               NO_ANS\n3816                                               NO_ANS\n3817                                               NO_ANS\n3818                                               NO_ANS\n3819    Lorsqu'un utilisateur agrandit la taille des c...\nName: texteRep, Length: 3820, dtype: object"
     },
     "execution_count": 29,
     "metadata": {},
     "output_type": "execute_result"
    }
   ],
   "source": [
    "# see the other dataframe\n",
    "# ok\n",
    "df_reponse = pd.read_csv(path_r, sep=\"\\t\", header=None)\n",
    "df_reponse.columns = ['numeroQ', 'noteObtenue', 'nomE', 'texteRep']\n",
    "df_reponse.texteRep = df_reponse.texteRep.apply(html_cleaning).apply(lambda x:x.strip().replace(\"\\\\n\",\"\"))\n",
    "df_reponse.texteRep\n",
    "# df_reponse.texteRep.apply(html_cleaning).apply(lambda x:x.strip().replace(\"\\\\n\",\"\"))"
   ]
  },
  {
   "cell_type": "code",
   "execution_count": 26,
   "metadata": {},
   "outputs": [],
   "source": [
    "xo_write_json_fromdf(\"r.json\",df_reponse)"
   ]
  },
  {
   "cell_type": "code",
   "execution_count": 56,
   "metadata": {
    "pycharm": {
     "name": "#%%\n"
    }
   },
   "outputs": [],
   "source": [
    "# merge the two\n",
    "\n",
    "#@ make sure that question ids match\n",
    "question_id1 = sorted(list(dict(df_reponse.numeroQ.value_counts()).keys()))\n",
    "question_id2 = sorted(list(dict(df_question.numeroQ.value_counts()).keys()))\n",
    "assert question_id2 == question_id1\n"
   ]
  },
  {
   "cell_type": "code",
   "execution_count": 63,
   "outputs": [],
   "source": [
    "#@ merge two df using dict\n",
    "df2 = xo_read_json(\"r.json\")\n",
    "df1 = xo_read_json(\"q.json\")\n",
    "# make id question paires\n",
    "id_question = {}\n",
    "id_correction = {}\n",
    "for k in df1:\n",
    "    id_question[k[\"numeroQ\"]] = k[\"texteQuestion\"]\n",
    "    id_correction[k[\"numeroQ\"]] = k[\"EltCorrections\"]\n",
    "\n",
    "for k in df2:\n",
    "    k[\"texteQuestion\"] = id_question[k[\"numeroQ\"]]\n",
    "    k[\"EltCorrections\"] = id_correction[k[\"numeroQ\"]]\n",
    "\n",
    "# df2\n",
    "\n",
    "#@ reorder keys\n",
    "desired_order = [\"texteQuestion\",\"EltCorrections\",\"texteRep\",\"noteObtenue\",\"numeroQ\"]\n",
    "\n",
    "df3 = []\n",
    "for k in df2:\n",
    "    output = {b:k[b] for b in desired_order}\n",
    "    df3.append(output)\n",
    "\n",
    "xo_write_json_fromlist(\"train.json\",df3)"
   ],
   "metadata": {
    "collapsed": false,
    "pycharm": {
     "name": "#%%\n"
    }
   }
  },
  {
   "cell_type": "code",
   "execution_count": 64,
   "outputs": [],
   "source": [
    "# to csv\n",
    "xo_json2csv(\"train.json\",\"train.csv\")"
   ],
   "metadata": {
    "collapsed": false,
    "pycharm": {
     "name": "#%%\n"
    }
   }
  }
 ],
 "metadata": {
  "kernelspec": {
   "display_name": "Python 3",
   "language": "python",
   "name": "python3"
  },
  "language_info": {
   "codemirror_mode": {
    "name": "ipython",
    "version": 3
   },
   "file_extension": ".py",
   "mimetype": "text/x-python",
   "name": "python",
   "nbconvert_exporter": "python",
   "pygments_lexer": "ipython3",
   "version": "3.7.3"
  }
 },
 "nbformat": 4,
 "nbformat_minor": 2
}